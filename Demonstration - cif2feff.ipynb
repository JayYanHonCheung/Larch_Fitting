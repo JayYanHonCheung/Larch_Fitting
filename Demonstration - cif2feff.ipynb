{
 "cells": [
  {
   "cell_type": "code",
   "execution_count": null,
   "id": "ac1ca1df",
   "metadata": {},
   "outputs": [],
   "source": [
    "from larch.xafs.feffrunner import feff6l, feff8l\n",
    "from larch.xrd import cif2feff\n",
    "from larch.xrd import CifStructure, get_amscifdb, find_cifs, get_cif"
   ]
  },
  {
   "cell_type": "code",
   "execution_count": null,
   "id": "aa284919",
   "metadata": {},
   "outputs": [],
   "source": [
    "\"\"\" As of January 2022, this part is not in the xraylarch documentation\n",
    "\n",
    "\n",
    "This is equivalent to the function in CIF browser in the XAS Viewer\n",
    "\n",
    "Adapted from larch.wxlib.cif_browser.py\n",
    "\"\"\""
   ]
  },
  {
   "cell_type": "code",
   "execution_count": null,
   "id": "b32192bd",
   "metadata": {},
   "outputs": [],
   "source": [
    "cif_path = \"data\\\\demo\\\\PtNi_1523590123.cif\""
   ]
  },
  {
   "cell_type": "code",
   "execution_count": null,
   "id": "64d836f6",
   "metadata": {},
   "outputs": [],
   "source": [
    "ini = get_amscifdb()\n",
    "cif_id = ini.add_ciffile(cif_path)\n",
    "cif = get_cif(cif_id)\n",
    "ciftext = cif.ciftext\n",
    "fefftext = cif.get_feffinp(\"Pt\", edge=\"L3\", cluster_size=7, absorber_site=1, version8=True)"
   ]
  },
  {
   "cell_type": "code",
   "execution_count": null,
   "id": "1d3a9e06",
   "metadata": {},
   "outputs": [],
   "source": [
    "cif = get_cif(cif_id)\n",
    "cif"
   ]
  },
  {
   "cell_type": "code",
   "execution_count": null,
   "id": "ef80b5f6",
   "metadata": {},
   "outputs": [],
   "source": [
    "'%d' % cif_id"
   ]
  },
  {
   "cell_type": "code",
   "execution_count": null,
   "id": "567885e4",
   "metadata": {},
   "outputs": [],
   "source": [
    "ciftext = cif.ciftext"
   ]
  },
  {
   "cell_type": "code",
   "execution_count": null,
   "id": "7336f41c",
   "metadata": {},
   "outputs": [],
   "source": [
    "fefftext = cif.get_feffinp(\"Pt\", edge=\"L3\", cluster_size=7,\n",
    "                                    absorber_site=1, version8=True)"
   ]
  },
  {
   "cell_type": "code",
   "execution_count": null,
   "id": "624373af",
   "metadata": {},
   "outputs": [],
   "source": [
    "fefftext"
   ]
  }
 ],
 "metadata": {
  "kernelspec": {
   "display_name": "xraylarch",
   "language": "python",
   "name": "xraylarch"
  },
  "language_info": {
   "codemirror_mode": {
    "name": "ipython",
    "version": 3
   },
   "file_extension": ".py",
   "mimetype": "text/x-python",
   "name": "python",
   "nbconvert_exporter": "python",
   "pygments_lexer": "ipython3",
   "version": "3.8.0"
  }
 },
 "nbformat": 4,
 "nbformat_minor": 5
}
