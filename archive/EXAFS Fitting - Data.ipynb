{
 "cells": [
  {
   "cell_type": "code",
   "execution_count": 1,
   "id": "4f497b35",
   "metadata": {},
   "outputs": [
    {
     "name": "stderr",
     "output_type": "stream",
     "text": [
      "[root] WARNING : Larchs apps and shell are not supported due to missing dependencies: cannot import name 'LarchWxApp' from 'larch.wxlib' (D:\\Python\\Anaconda3\\envs\\xraylarch\\lib\\site-packages\\larch\\wxlib\\__init__.py)\n"
     ]
    }
   ],
   "source": [
    "from larch.xafs import feffit, feffit_dataset, feffit_transform, feffit_report\n",
    "from larch.xafs import pre_edge, autobk, xftf, xftr, ff2chi, feffpath\n",
    "from larch.fitting import  param_group, param\n",
    "from larch.io import h5group, read_ascii, read_athena, read_xdi, read_specfile, extract_athenagroup\n",
    "\n",
    "import h5py\n",
    "import numpy as np\n",
    "import pandas as pd\n",
    "import matplotlib.pyplot as plt"
   ]
  },
  {
   "cell_type": "code",
   "execution_count": null,
   "id": "974d8b0e",
   "metadata": {},
   "outputs": [],
   "source": [
    "\"\"\"\n",
    "Plan\n",
    "\n",
    "1. Organise Cu Standard scripts. (Done)\n",
    "2. Larch fit data_1 of 9. (Done)\n",
    "3. Organise script for data_1. (Done)\n",
    "4. Simultaneous fit of data 2 - 9 w/ script.\n",
    "5. Compare results with Artemis and Larch (if sigma2 optimised as constrain.)\n",
    "6. Improve fitting by rebinning either in time-axis or EXAFS region\n",
    "7. Improvise, Adapt, Overcome.\n",
    "\n",
    "\"\"\""
   ]
  },
  {
   "cell_type": "code",
   "execution_count": 11,
   "id": "7b6af9ef",
   "metadata": {},
   "outputs": [],
   "source": [
    "\"\"\" Data Standard Fitting. \"\"\"\n",
    "\n",
    "\"\"\" 0. Convert file to ASCII\"\"\"\n",
    "\n",
    "standard_path = \"data\\\\time_series\\\\12s_70C_Art_2000ms_1374.dat\""
   ]
  },
  {
   "cell_type": "code",
   "execution_count": 12,
   "id": "04262e8f",
   "metadata": {},
   "outputs": [],
   "source": [
    "\"\"\" 1. Reading Data \"\"\"\n",
    "\n",
    "# Initialisation\n",
    "data = read_ascii(standard_path, labels=\"energy mu\")\n",
    "data.groupname = \"data_1058\"\n",
    "\n",
    "# Pre-processing - EXAFS fittings only need a valid k space\n",
    "autobk(data, rbkg=1.18) # Need to have option to suppress normalisation in case loaded spectra is already normed\n",
    "xftf(data, kmin=3.0, kmax=10, dk=1.0, window=\"hanning\", kweight=2.00)\n",
    "xftr(data, rmin=1.0, rmax=4.0, dr=1.0, window=\"hanning\")"
   ]
  },
  {
   "cell_type": "code",
   "execution_count": null,
   "id": "8398f093",
   "metadata": {},
   "outputs": [],
   "source": [
    "\"\"\" Misc: Plotting \"\"\"\n",
    "energy = data.energy\n",
    "mu = data.mu\n",
    "norm = data.norm\n",
    "chi = data.chi\n",
    "k = data.k\n",
    "chir_mag = data.chir_mag\n",
    "r = data.r\n",
    "\n",
    "fig, ax = plt.subplots(1, 3, figsize=(15, 5))\n",
    "\n",
    "ax[0].plot(energy, norm)\n",
    "ax[1].plot(k, chi)\n",
    "ax[2].plot(r, chir_mag)"
   ]
  },
  {
   "cell_type": "code",
   "execution_count": 13,
   "id": "01b66753",
   "metadata": {},
   "outputs": [],
   "source": [
    "\"\"\" 2. Set up feffit. \"\"\"\n",
    "\n",
    "# Create feffit Parameter Group to hold fit parameters\n",
    "_feffit_params = param_group(n_cucu=param(1.0, vary=True),\n",
    "                             n_cuo=param(1.0, vary=True),\n",
    "                             s02=param(0.87348, min=0, vary=False),\n",
    "                             e0=param(0.1, min=-10, max=10, vary=True),\n",
    "                             delr_Cu=param(0.001, min=-0.5, max=0.5, vary=True),\n",
    "                             delr_O=param(0.001, min=-0.5, max=0.5, vary=True),\n",
    "                             sigma2_Cu=param(0.008, min=0.0, max=0.009, vary=True),\n",
    "                             sigma2_O=param(0.008, min=0.0, max=0.009, vary=True))\n",
    "\n",
    "\n",
    "# Define Fourier transform and fitting space\n",
    "# Actual FT parameters for EXAFS fitting\n",
    "_feffit_trans = feffit_transform(kmin=3.000, kmax=10.000, dk=1.0000, kw=2,\n",
    "                                 window=\"hanning\", fitspace='r', rmin=1.000, rmax=4.000)\n",
    "\n",
    "# Make sure a dictionary for Feff Paths exists\n",
    "try:\n",
    "    npaths = len(_paths.keys())\n",
    "except:\n",
    "    _paths = {}\n",
    "    \n",
    "_paths['Cu256'] = feffpath(\"C:/Users/user/larch/feff/Cu1_K_Copper_cif11145/feff0001.dat\",\n",
    "                  label='Cu256', degen=1,\n",
    "                  s02='n_cucu * s02',     e0='e0',\n",
    "                  deltar='delr_Cu', sigma2='sigma2_Cu')\n",
    "\n",
    "_paths['O195'] = feffpath('C:/Users/user/larch/feff/Cu1_K_Tenorite_cif11639/feff0001.dat',\n",
    "                  label='O195', degen=1,\n",
    "                  s02='n_cuo * s02',     e0='e0',\n",
    "                  deltar='delr_O', sigma2='sigma2_O')\n",
    "\n",
    "# Make dict of paths, sum them using a group of parameters\n",
    "_ff2chi_paths  = {'Cu256': _paths['Cu256'], \"O195\": _paths[\"O195\"]}\n",
    "# if len(_ff2chi_paths) > 0:\n",
    "#     _pathsum = ff2chi(_ff2chi_paths, paramgroup=_feffit_params)\n",
    "    \n",
    "# Build feffit dataset, run feffit\n",
    "_feffit_dataset = feffit_dataset(data=data, transform=_feffit_trans, paths=_ff2chi_paths)\n",
    "_feffit_result = feffit(_feffit_params, [_feffit_dataset]) # _feffit_dataset can be a list***\n",
    "\n",
    "# # Insert _feffit_result into self.feffit_history\n",
    "# if not hasattr(data, 'feffit_history'): \n",
    "#     data.feffit_history = []    \n",
    "# _feffit_result.label = 'Fit %i' % (1+len(data.feffit_history))\n",
    "# data.feffit_history.insert(0, _feffit_result)"
   ]
  },
  {
   "cell_type": "code",
   "execution_count": 14,
   "id": "54394873",
   "metadata": {},
   "outputs": [
    {
     "data": {
      "text/plain": [
       "<matplotlib.legend.Legend at 0x268b9fa1190>"
      ]
     },
     "execution_count": 14,
     "metadata": {},
     "output_type": "execute_result"
    },
    {
     "data": {
      "image/png": "[encoded data removed]",
      "text/plain": [
       "<Figure size 864x432 with 1 Axes>"
      ]
     },
     "metadata": {
      "needs_background": "light"
     },
     "output_type": "display_data"
    }
   ],
   "source": [
    "\"\"\" Misc: Plotting fitted results\"\"\"\n",
    "\n",
    "data_r = _feffit_dataset.data.r\n",
    "data_chir_mag = _feffit_dataset.data.chir_mag\n",
    "\n",
    "fit_r = _feffit_result.datasets[0].model.r\n",
    "fit_chir_mag = _feffit_result.datasets[0].model.chir_mag\n",
    "\n",
    "a = _feffit_result.datasets[0].paths[\"Cu256\"].r\n",
    "b = _feffit_result.datasets[0].paths[\"Cu256\"].chir_mag\n",
    "\n",
    "c = _feffit_result.datasets[0].paths[\"O195\"].r\n",
    "d = _feffit_result.datasets[0].paths[\"O195\"].chir_mag\n",
    "\n",
    "fig = plt.figure(figsize=(12, 6))\n",
    "plt.plot(fit_r, fit_chir_mag, color=\"r\", label=\"fit\")\n",
    "plt.plot(data_r, data_chir_mag, lw=0, marker='o', markersize=3, fillstyle='none', color=\"k\", label=\"Raw Data\")\n",
    "plt.plot(a, b, label=\"Cu-Cu\")\n",
    "plt.plot(c, d, label=\"Cu-O\")\n",
    "plt.axhline(0, color=\"k\", linestyle=\":\")\n",
    "plt.legend()"
   ]
  },
  {
   "cell_type": "code",
   "execution_count": 6,
   "id": "9b8c1076",
   "metadata": {},
   "outputs": [
    {
     "name": "stdout",
     "output_type": "stream",
     "text": [
      "=================== FEFFIT RESULTS ====================\n",
      "[[Statistics]]\n",
      "   nvarys, npts       =  7, 196\n",
      "   n_independent      =  14.369\n",
      "   chi_square         =  122.504439\n",
      "   reduced chi_square =  16.6242619\n",
      "   r-factor           =  0.12284543\n",
      "   Akaike info crit   =  44.7938499\n",
      "   Bayesian info crit =  49.4493691\n",
      " \n",
      "[[Data]]\n",
      "   fit space          = 'r'\n",
      "   r-range            = 1.000, 4.000\n",
      "   k-range            = 3.000, 10.000\n",
      "   k window, dk       = 'hanning', 1.000\n",
      "   paths used in fit  = ['C:/Users/user/larch/feff/Cu1_K_Copper_cif11145/feff0001.dat', 'C:/Users/user/larch/feff/Cu1_K_Tenorite_cif11639/feff0001.dat']\n",
      "   k-weight           = 2\n",
      "   epsilon_k          = Array(mean=0.00463655, std=0.00577351)\n",
      "   epsilon_r          = 0.04131062\n",
      "   n_independent      = 14.369\n",
      " \n",
      "[[Variables]]\n",
      "   delr_Cu        =  0.00505104 +/- 0.07020819   (init=  1.0000e-03)\n",
      "   delr_O         = -0.01395802 +/- 0.02974249   (init=  1.0000e-03)\n",
      "   e0             = -9.99999996 +/- 2.05443435   (init=  0.10000000)\n",
      "   n_cucu         =  0.22787260 +/- 0.96638250   (init=  1.00000000)\n",
      "   n_cuo          =  2.75526905 +/- 0.96321036   (init=  1.00000000)\n",
      "   s02            =  0.87348000 (fixed)\n",
      "   sigma2_Cu      =  1.2722e-10 +/- 0.02211392   (init=  0.00800000)\n",
      "   sigma2_O       =  2.1537e-11 +/- 0.00527183   (init=  0.00800000)\n",
      " \n",
      "[[Correlations]]    (unreported correlations are <  0.100)\n",
      "   n_cucu, sigma2_Cu    = -0.971\n",
      "   delr_O, e0           =  0.913\n",
      "   n_cuo, sigma2_O      = -0.913\n",
      "   delr_O, sigma2_Cu    =  0.607\n",
      "   delr_O, n_cucu       = -0.556\n",
      "   e0, sigma2_Cu        =  0.523\n",
      "   e0, n_cucu           = -0.480\n",
      "   n_cucu, sigma2_O     =  0.286\n",
      "   n_cucu, n_cuo        = -0.279\n",
      "   delr_Cu, sigma2_O    = -0.272\n",
      "   sigma2_Cu, sigma2_O  = -0.270\n",
      "   n_cuo, sigma2_Cu     =  0.265\n",
      "   delr_O, sigma2_O     = -0.242\n",
      "   delr_Cu, e0          =  0.241\n",
      "   delr_Cu, delr_O      =  0.241\n",
      "   delr_O, n_cuo        =  0.189\n",
      "   delr_Cu, n_cuo       =  0.178\n",
      "   delr_Cu, n_cucu      =  0.110\n",
      " \n",
      "[[Paths]]\n",
      " = Path 'Cu256' = \n",
      "    feffdat file = C:/Users/user/larch/feff/Cu1_K_Copper_cif11145/feff0001.dat\n",
      "    geometry  atom      x        y        z      ipot\n",
      "              Cu      -0.0000, -0.0000, -0.0000  0 (absorber)\n",
      "              Cu      -1.8075, -0.0000, -1.8075  1\n",
      "     reff   =  2.55620000\n",
      "     degen  =  1.00000000\n",
      "     n*s02  =  0.19904216 +/- 0.84411579  := 'n_cucu * s02'\n",
      "     e0     = -9.99999996 +/- 2.05443434  := 'e0'\n",
      "     r      =  2.56125104 +/- 0.07020819  := 'reff + delr_Cu'\n",
      "     deltar =  0.00505104 +/- 0.07020819  := 'delr_Cu'\n",
      "     sigma2 =  1.2722e-10 +/- 0.02211392  := 'sigma2_Cu'\n",
      "\n",
      " = Path 'O195' = \n",
      "    feffdat file = C:/Users/user/larch/feff/Cu1_K_Tenorite_cif11639/feff0001.dat\n",
      "    geometry  atom      x        y        z      ipot\n",
      "              Cu      -0.0000, -0.0000, -0.0000  0 (absorber)\n",
      "               O      -1.1474,  1.1389, -1.0854  2\n",
      "     reff   =  1.94720000\n",
      "     degen  =  1.00000000\n",
      "     n*s02  =  2.40667241 +/- 0.84134499  := 'n_cuo * s02'\n",
      "     e0     = -9.99999996 +/- 2.05443434  := 'e0'\n",
      "     r      =  1.93324198 +/- 0.02974249  := 'reff + delr_O'\n",
      "     deltar = -0.01395802 +/- 0.02974249  := 'delr_O'\n",
      "     sigma2 =  2.1537e-11 +/- 0.00527183  := 'sigma2_O'\n",
      "\n",
      "=======================================================\n"
     ]
    }
   ],
   "source": [
    "\"\"\" Misc: Print fitted results. \"\"\"\n",
    "print(feffit_report(_feffit_result))"
   ]
  },
  {
   "cell_type": "code",
   "execution_count": null,
   "id": "27fb5abd",
   "metadata": {},
   "outputs": [],
   "source": [
    "\"\"\" Misc: Extract fitted parameters. \"\"\"\n",
    "s02 = _feffit_result.paramgroup.s02\n",
    "e0 = _feffit_result.paramgroup.e0\n",
    "delr_Cu256 = _feffit_result.paramgroup.delr_Cu256\n",
    "sigma2_Cu256 = _feffit_result.paramgroup.sigma2_Cu256\n",
    "\n",
    "_feffit_result.datasets"
   ]
  },
  {
   "cell_type": "code",
   "execution_count": null,
   "id": "234a98e8",
   "metadata": {},
   "outputs": [],
   "source": []
  }
 ],
 "metadata": {
  "kernelspec": {
   "display_name": "xraylarch",
   "language": "python",
   "name": "xraylarch"
  },
  "language_info": {
   "codemirror_mode": {
    "name": "ipython",
    "version": 3
   },
   "file_extension": ".py",
   "mimetype": "text/x-python",
   "name": "python",
   "nbconvert_exporter": "python",
   "pygments_lexer": "ipython3",
   "version": "3.8.0"
  }
 },
 "nbformat": 4,
 "nbformat_minor": 5
}
