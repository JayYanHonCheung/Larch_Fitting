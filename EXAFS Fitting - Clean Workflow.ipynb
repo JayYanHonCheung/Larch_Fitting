{
 "cells": [
  {
   "cell_type": "code",
   "execution_count": null,
   "id": "ffc5fd6e",
   "metadata": {},
   "outputs": [],
   "source": [
    "from larch.xafs import feffit, feffit_dataset, feffit_transform, feffit_report\n",
    "from larch.xafs import pre_edge, autobk, xftf, xftr, ff2chi, feffpath\n",
    "from larch.fitting import  param_group, param\n",
    "from larch.io import h5group, read_ascii, read_athena, read_xdi, read_specfile, extract_athenagroup\n",
    "\n",
    "import h5py\n",
    "import numpy as np\n",
    "import pandas as pd\n",
    "import matplotlib.pyplot as plt"
   ]
  },
  {
   "cell_type": "code",
   "execution_count": null,
   "id": "08d68a49",
   "metadata": {},
   "outputs": [],
   "source": []
  },
  {
   "cell_type": "code",
   "execution_count": null,
   "id": "d82fd9bc",
   "metadata": {},
   "outputs": [],
   "source": []
  },
  {
   "cell_type": "code",
   "execution_count": null,
   "id": "6092dc11",
   "metadata": {},
   "outputs": [],
   "source": [
    "\"\"\" 2.1 Setup feffit - feffit parameters + FT and fitting space \"\"\"\n",
    "\n",
    "# Create feffit Parameter Group to hold fit parameters (Core parameters)\n",
    "_feffit_params = param_group(s02=param(0.87348, min=0, vary=False),\n",
    "                             e0=param(0.1, min=-10, max=10, vary=True),\n",
    "#                              sigma2_cu=param(0.008, min=0.001, max=0.009, vary=True),\n",
    "                             sigma2_o=param(0.008, min=0.001, max=0.009, vary=True))\n",
    "\n",
    "# Create feffit Parameter Group to hold fit parameters (Repeating parameters)\n",
    "data_num = len(data_list)\n",
    "\n",
    "fit_params = [\"n_cuo_\", \"delr_o_\"]\n",
    "fit_values = [param(1.0, vary=True),\n",
    "              param(0.001, min=-0.5, max=0.5, vary=True)]\n",
    "\n",
    "all_fit_params = [param + str(i) for i in range(data_num) for param in fit_params]\n",
    "all_fit_values = fit_values * data_num\n",
    "\n",
    "for key, value in zip(all_fit_params, all_fit_values):\n",
    "    setattr(_feffit_params, key, value)\n",
    "\n",
    "# Define Fourier transform and fitting space\n",
    "# Actual FT parameters for EXAFS fitting\n",
    "_feffit_trans = feffit_transform(kmin=3.000, kmax=10.000, dk=1.0000, kw=2,\n",
    "                                 window=\"hanning\", fitspace='r', rmin=1.000, rmax=4.000)\n"
   ]
  },
  {
   "cell_type": "code",
   "execution_count": null,
   "id": "a916653c",
   "metadata": {},
   "outputs": [],
   "source": [
    "\"\"\" 2.2 Setup up paths for all datasets. \"\"\"\n",
    "\n",
    "# Create list of base paths\n",
    "_paths = []\n",
    "\n",
    "_paths_names = [\"O195_\"]\n",
    "_all_paths_names = [pname + str(i) for i in range(data_num) for pname in _paths_names]\n",
    "\n",
    "path_original = \"C:/Users/user/larch/feff/Cu1_K_Tenorite_cif11639/feff0001.dat\"\n",
    "path_new = \"C:/Users/user/Downloads/Cu-O_path_at_2_1500.rsp\"\n",
    "\n",
    "_path_o = feffpath(path_new,\n",
    "               degen=1, e0='e0', sigma2='sigma2_o')\n",
    "\n",
    "_path_keys = [\"label\", \"s02\", \"deltar\"]\n",
    "_path_values_o = [\"O195_\", \"s02 * n_cuo_\", \"delr_o_\"]\n",
    "\n",
    "for i in range(data_num):\n",
    "\n",
    "    # Setup for Cu-O paths    \n",
    "    _path_o_temp = copy.deepcopy(_path_o)\n",
    "    for key, value in zip(_path_keys, _path_values_o):\n",
    "        setattr(_path_o_temp, key, value + str(i))\n",
    "        \n",
    "    _paths_dict = {_paths_names[0] + str(i): _path_o_temp}\n",
    "    \n",
    "    _paths.append(_paths_dict)"
   ]
  }
 ],
 "metadata": {
  "kernelspec": {
   "display_name": "Python 3",
   "language": "python",
   "name": "python3"
  },
  "language_info": {
   "codemirror_mode": {
    "name": "ipython",
    "version": 3
   },
   "file_extension": ".py",
   "mimetype": "text/x-python",
   "name": "python",
   "nbconvert_exporter": "python",
   "pygments_lexer": "ipython3",
   "version": "3.8.0"
  }
 },
 "nbformat": 4,
 "nbformat_minor": 5
}
