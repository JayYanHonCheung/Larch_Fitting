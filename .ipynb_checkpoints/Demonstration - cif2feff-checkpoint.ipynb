{
 "cells": [
  {
   "cell_type": "code",
   "execution_count": null,
   "id": "ac1ca1df",
   "metadata": {},
   "outputs": [],
   "source": [
    "from larch.xafs.feffrunner import feff6l, feff8l, feffrunner\n",
    "from larch.xrd import cif2feff\n",
    "from larch.xrd import CifStructure, get_amscifdb, find_cifs, get_cif\n",
    "\n",
    "import os"
   ]
  },
  {
   "cell_type": "code",
   "execution_count": null,
   "id": "597c124a",
   "metadata": {},
   "outputs": [],
   "source": [
    "\"\"\" As of January 2022, this part is not in the xraylarch documentation\n",
    "\n",
    "A crude adaptation from larch.wxlib.cif_browser.py \n",
    "(https://github.com/xraypy/xraylarch/blob/master/larch/wxlib/cif_browser.py)\n",
    "An equivalent to the function in CIF browser in the XAS Viewer\n",
    "\n",
    "It generates a feff input file (.inp) from a Crystallographic Information File (.cif), \n",
    "then compute scattering path files (.dat) by feff8 (or feff6) for EXAFS fitting\n",
    "\n",
    "\"\"\""
   ]
  },
  {
   "cell_type": "code",
   "execution_count": null,
   "id": "68bd3b68",
   "metadata": {},
   "outputs": [],
   "source": [
    "# Path of .cif file\n",
    "cif_path = \"data\\\\demo\\\\PtNi_1523590.cif\"\n",
    "cif_name = os.path.basename(cif_path)[:-4]"
   ]
  },
  {
   "cell_type": "code",
   "execution_count": null,
   "id": "de92ee3a",
   "metadata": {},
   "outputs": [],
   "source": [
    "\"\"\"\n",
    "Parameters for feff computation:\n",
    "\n",
    "A series of parameters are required to compute the scattering paths.\n",
    "\n",
    "1. String: Absorber atom\n",
    "2. String: Edge\n",
    "3. Int: Cluster size (Angstrom)\n",
    "4. Int: Absorber site\n",
    "5. Bool: feff version8\n",
    "\n",
    "\"\"\"\n",
    "\n",
    "catom = \"Pt\"\n",
    "edge = \"L3\"\n",
    "csize = 7\n",
    "asite = 1\n",
    "version8 = True"
   ]
  },
  {
   "cell_type": "code",
   "execution_count": null,
   "id": "8a735f93",
   "metadata": {},
   "outputs": [],
   "source": [
    "# Create a directory to save feff input file (.inp) and all computed scatter paths files (.dat)\n",
    "\n",
    "feff_path = \"data\\\\demo\\\\cif2feff\\\\\"\n",
    "fname = f\"{catom}{asite}_{edge}_{cif_name}\"\n",
    "folder = os.path.join(feff_path, fname)\n",
    "\n",
    "if not os.path.exists(folder):\n",
    "    os.makedirs(folder)"
   ]
  },
  {
   "cell_type": "code",
   "execution_count": null,
   "id": "92821e09",
   "metadata": {},
   "outputs": [],
   "source": [
    "ini = get_amscifdb()\n",
    "cif_id = ini.add_ciffile(cif_path)\n",
    "cif = get_cif(cif_id)\n",
    "ciftext = cif.ciftext\n",
    "fefftext = cif.get_feffinp(catom, edge=edge, cluster_size=csize, absorber_site=asite, version8=version8)"
   ]
  },
  {
   "cell_type": "code",
   "execution_count": null,
   "id": "37ba15df",
   "metadata": {},
   "outputs": [],
   "source": [
    "fname = \"txt_feff.inp\""
   ]
  },
  {
   "cell_type": "code",
   "execution_count": null,
   "id": "ccdcc2ab",
   "metadata": {},
   "outputs": [],
   "source": [
    "with open('data\\\\demo\\\\out.inp', 'w') as output:\n",
    "    output.write(fefftext)"
   ]
  },
  {
   "cell_type": "code",
   "execution_count": null,
   "id": "2152f0e4",
   "metadata": {},
   "outputs": [],
   "source": [
    "feff = feffrunner(feffinp='data\\\\demo\\\\out.inp')\n",
    "feff.run()"
   ]
  },
  {
   "cell_type": "code",
   "execution_count": null,
   "id": "3a1d0423",
   "metadata": {},
   "outputs": [],
   "source": [
    "feff"
   ]
  }
 ],
 "metadata": {
  "kernelspec": {
   "display_name": "xraylarch",
   "language": "python",
   "name": "xraylarch"
  },
  "language_info": {
   "codemirror_mode": {
    "name": "ipython",
    "version": 3
   },
   "file_extension": ".py",
   "mimetype": "text/x-python",
   "name": "python",
   "nbconvert_exporter": "python",
   "pygments_lexer": "ipython3",
   "version": "3.8.0"
  }
 },
 "nbformat": 4,
 "nbformat_minor": 5
}
