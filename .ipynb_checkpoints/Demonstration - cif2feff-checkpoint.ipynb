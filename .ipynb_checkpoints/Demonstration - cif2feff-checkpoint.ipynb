{
 "cells": [
  {
   "cell_type": "code",
   "execution_count": 14,
   "id": "ac1ca1df",
   "metadata": {},
   "outputs": [],
   "source": [
    "from larch.xafs.feffrunner import feff6l, feff8l\n",
    "from larch.xrd import cif2feff"
   ]
  },
  {
   "cell_type": "code",
   "execution_count": 61,
   "id": "1f5f2184",
   "metadata": {},
   "outputs": [],
   "source": [
    "cif_path = \"data\\\\cif\\\\Pt_1011103.cif\""
   ]
  },
  {
   "cell_type": "code",
   "execution_count": 62,
   "id": "fd632b3c",
   "metadata": {},
   "outputs": [],
   "source": [
    "from io import StringIO\n",
    "from pymatgen.io.cif import CifParser"
   ]
  },
  {
   "cell_type": "code",
   "execution_count": 63,
   "id": "f1e315ef",
   "metadata": {},
   "outputs": [
    {
     "data": {
      "text/plain": [
       "{}"
      ]
     },
     "execution_count": 63,
     "metadata": {},
     "output_type": "execute_result"
    }
   ],
   "source": [
    "(StringIO(cif_path))"
   ]
  },
  {
   "cell_type": "code",
   "execution_count": 42,
   "id": "4b513c2e",
   "metadata": {},
   "outputs": [
    {
     "data": {
      "text/plain": [
       "'data\\\\.cif\\\\Pt_1011103.cif'"
      ]
     },
     "execution_count": 42,
     "metadata": {},
     "output_type": "execute_result"
    }
   ],
   "source": [
    "cif_path"
   ]
  },
  {
   "cell_type": "code",
   "execution_count": 64,
   "id": "fdca88e6",
   "metadata": {},
   "outputs": [
    {
     "ename": "ValueError",
     "evalue": "could not get structure from text of CIF file",
     "output_type": "error",
     "traceback": [
      "\u001b[1;31m---------------------------------------------------------------------------\u001b[0m",
      "\u001b[1;31mValueError\u001b[0m                                Traceback (most recent call last)",
      "\u001b[1;32mD:\\Python\\Anaconda3\\envs\\xraylarch\\lib\\site-packages\\larch\\xrd\\cif2feff.py\u001b[0m in \u001b[0;36mread_cif_structure\u001b[1;34m(ciftext)\u001b[0m\n\u001b[0;32m     65\u001b[0m     \u001b[1;32mtry\u001b[0m\u001b[1;33m:\u001b[0m\u001b[1;33m\u001b[0m\u001b[1;33m\u001b[0m\u001b[0m\n\u001b[1;32m---> 66\u001b[1;33m         \u001b[0mcstruct\u001b[0m \u001b[1;33m=\u001b[0m \u001b[0mcifstructs\u001b[0m\u001b[1;33m.\u001b[0m\u001b[0mget_structures\u001b[0m\u001b[1;33m(\u001b[0m\u001b[1;33m)\u001b[0m\u001b[1;33m[\u001b[0m\u001b[1;36m0\u001b[0m\u001b[1;33m]\u001b[0m\u001b[1;33m\u001b[0m\u001b[1;33m\u001b[0m\u001b[0m\n\u001b[0m\u001b[0;32m     67\u001b[0m     \u001b[1;32mexcept\u001b[0m\u001b[1;33m:\u001b[0m\u001b[1;33m\u001b[0m\u001b[1;33m\u001b[0m\u001b[0m\n",
      "\u001b[1;32mD:\\Python\\Anaconda3\\envs\\xraylarch\\lib\\site-packages\\pymatgen\\io\\cif.py\u001b[0m in \u001b[0;36mget_structures\u001b[1;34m(self, primitive, symmetrized)\u001b[0m\n\u001b[0;32m   1166\u001b[0m         \u001b[1;32mif\u001b[0m \u001b[0mlen\u001b[0m\u001b[1;33m(\u001b[0m\u001b[0mstructures\u001b[0m\u001b[1;33m)\u001b[0m \u001b[1;33m==\u001b[0m \u001b[1;36m0\u001b[0m\u001b[1;33m:\u001b[0m\u001b[1;33m\u001b[0m\u001b[1;33m\u001b[0m\u001b[0m\n\u001b[1;32m-> 1167\u001b[1;33m             \u001b[1;32mraise\u001b[0m \u001b[0mValueError\u001b[0m\u001b[1;33m(\u001b[0m\u001b[1;34m\"Invalid cif file with no structures!\"\u001b[0m\u001b[1;33m)\u001b[0m\u001b[1;33m\u001b[0m\u001b[1;33m\u001b[0m\u001b[0m\n\u001b[0m\u001b[0;32m   1168\u001b[0m         \u001b[1;32mreturn\u001b[0m \u001b[0mstructures\u001b[0m\u001b[1;33m\u001b[0m\u001b[1;33m\u001b[0m\u001b[0m\n",
      "\u001b[1;31mValueError\u001b[0m: Invalid cif file with no structures!",
      "\nDuring handling of the above exception, another exception occurred:\n",
      "\u001b[1;31mValueError\u001b[0m                                Traceback (most recent call last)",
      "\u001b[1;32m<ipython-input-64-54aa77ba948b>\u001b[0m in \u001b[0;36m<module>\u001b[1;34m\u001b[0m\n\u001b[1;32m----> 1\u001b[1;33m \u001b[0mcif2feff\u001b[0m\u001b[1;33m.\u001b[0m\u001b[0mread_cif_structure\u001b[0m\u001b[1;33m(\u001b[0m\u001b[0mcif_path\u001b[0m\u001b[1;33m)\u001b[0m\u001b[1;33m\u001b[0m\u001b[1;33m\u001b[0m\u001b[0m\n\u001b[0m",
      "\u001b[1;32mD:\\Python\\Anaconda3\\envs\\xraylarch\\lib\\site-packages\\larch\\xrd\\cif2feff.py\u001b[0m in \u001b[0;36mread_cif_structure\u001b[1;34m(ciftext)\u001b[0m\n\u001b[0;32m     66\u001b[0m         \u001b[0mcstruct\u001b[0m \u001b[1;33m=\u001b[0m \u001b[0mcifstructs\u001b[0m\u001b[1;33m.\u001b[0m\u001b[0mget_structures\u001b[0m\u001b[1;33m(\u001b[0m\u001b[1;33m)\u001b[0m\u001b[1;33m[\u001b[0m\u001b[1;36m0\u001b[0m\u001b[1;33m]\u001b[0m\u001b[1;33m\u001b[0m\u001b[1;33m\u001b[0m\u001b[0m\n\u001b[0;32m     67\u001b[0m     \u001b[1;32mexcept\u001b[0m\u001b[1;33m:\u001b[0m\u001b[1;33m\u001b[0m\u001b[1;33m\u001b[0m\u001b[0m\n\u001b[1;32m---> 68\u001b[1;33m         \u001b[1;32mraise\u001b[0m \u001b[0mValueError\u001b[0m\u001b[1;33m(\u001b[0m\u001b[1;34m'could not get structure from text of CIF file'\u001b[0m\u001b[1;33m)\u001b[0m\u001b[1;33m\u001b[0m\u001b[1;33m\u001b[0m\u001b[0m\n\u001b[0m\u001b[0;32m     69\u001b[0m \u001b[1;33m\u001b[0m\u001b[0m\n\u001b[0;32m     70\u001b[0m     \u001b[1;32mif\u001b[0m \u001b[1;32mnot\u001b[0m \u001b[0mparse_ok\u001b[0m\u001b[1;33m:\u001b[0m\u001b[1;33m\u001b[0m\u001b[1;33m\u001b[0m\u001b[0m\n",
      "\u001b[1;31mValueError\u001b[0m: could not get structure from text of CIF file"
     ]
    }
   ],
   "source": [
    "cif2feff.read_cif_structure(cif_path)"
   ]
  },
  {
   "cell_type": "code",
   "execution_count": 41,
   "id": "486d43bb",
   "metadata": {},
   "outputs": [
    {
     "ename": "ValueError",
     "evalue": "could not get structure from text of CIF file",
     "output_type": "error",
     "traceback": [
      "\u001b[1;31m---------------------------------------------------------------------------\u001b[0m",
      "\u001b[1;31mValueError\u001b[0m                                Traceback (most recent call last)",
      "\u001b[1;32mD:\\Python\\Anaconda3\\envs\\xraylarch\\lib\\site-packages\\larch\\xrd\\cif2feff.py\u001b[0m in \u001b[0;36mread_cif_structure\u001b[1;34m(ciftext)\u001b[0m\n\u001b[0;32m     65\u001b[0m     \u001b[1;32mtry\u001b[0m\u001b[1;33m:\u001b[0m\u001b[1;33m\u001b[0m\u001b[1;33m\u001b[0m\u001b[0m\n\u001b[1;32m---> 66\u001b[1;33m         \u001b[0mcstruct\u001b[0m \u001b[1;33m=\u001b[0m \u001b[0mcifstructs\u001b[0m\u001b[1;33m.\u001b[0m\u001b[0mget_structures\u001b[0m\u001b[1;33m(\u001b[0m\u001b[1;33m)\u001b[0m\u001b[1;33m[\u001b[0m\u001b[1;36m0\u001b[0m\u001b[1;33m]\u001b[0m\u001b[1;33m\u001b[0m\u001b[1;33m\u001b[0m\u001b[0m\n\u001b[0m\u001b[0;32m     67\u001b[0m     \u001b[1;32mexcept\u001b[0m\u001b[1;33m:\u001b[0m\u001b[1;33m\u001b[0m\u001b[1;33m\u001b[0m\u001b[0m\n",
      "\u001b[1;32mD:\\Python\\Anaconda3\\envs\\xraylarch\\lib\\site-packages\\pymatgen\\io\\cif.py\u001b[0m in \u001b[0;36mget_structures\u001b[1;34m(self, primitive, symmetrized)\u001b[0m\n\u001b[0;32m   1166\u001b[0m         \u001b[1;32mif\u001b[0m \u001b[0mlen\u001b[0m\u001b[1;33m(\u001b[0m\u001b[0mstructures\u001b[0m\u001b[1;33m)\u001b[0m \u001b[1;33m==\u001b[0m \u001b[1;36m0\u001b[0m\u001b[1;33m:\u001b[0m\u001b[1;33m\u001b[0m\u001b[1;33m\u001b[0m\u001b[0m\n\u001b[1;32m-> 1167\u001b[1;33m             \u001b[1;32mraise\u001b[0m \u001b[0mValueError\u001b[0m\u001b[1;33m(\u001b[0m\u001b[1;34m\"Invalid cif file with no structures!\"\u001b[0m\u001b[1;33m)\u001b[0m\u001b[1;33m\u001b[0m\u001b[1;33m\u001b[0m\u001b[0m\n\u001b[0m\u001b[0;32m   1168\u001b[0m         \u001b[1;32mreturn\u001b[0m \u001b[0mstructures\u001b[0m\u001b[1;33m\u001b[0m\u001b[1;33m\u001b[0m\u001b[0m\n",
      "\u001b[1;31mValueError\u001b[0m: Invalid cif file with no structures!",
      "\nDuring handling of the above exception, another exception occurred:\n",
      "\u001b[1;31mValueError\u001b[0m                                Traceback (most recent call last)",
      "\u001b[1;32m<ipython-input-41-fa8e9213894d>\u001b[0m in \u001b[0;36m<module>\u001b[1;34m\u001b[0m\n\u001b[1;32m----> 1\u001b[1;33m \u001b[0mcif2feff\u001b[0m\u001b[1;33m.\u001b[0m\u001b[0mcif2feffinp\u001b[0m\u001b[1;33m(\u001b[0m\u001b[0mcif_path\u001b[0m\u001b[1;33m,\u001b[0m \u001b[0mabsorber\u001b[0m\u001b[1;33m=\u001b[0m\u001b[1;34m\"Pt\"\u001b[0m\u001b[1;33m)\u001b[0m\u001b[1;33m\u001b[0m\u001b[1;33m\u001b[0m\u001b[0m\n\u001b[0m",
      "\u001b[1;32mD:\\Python\\Anaconda3\\envs\\xraylarch\\lib\\site-packages\\larch\\xrd\\cif2feff.py\u001b[0m in \u001b[0;36mcif2feffinp\u001b[1;34m(ciftext, absorber, edge, cluster_size, absorber_site, site_index, extra_titles, version8)\u001b[0m\n\u001b[0;32m    121\u001b[0m \u001b[1;33m\u001b[0m\u001b[0m\n\u001b[0;32m    122\u001b[0m     \"\"\"\n\u001b[1;32m--> 123\u001b[1;33m     \u001b[0mcstruct\u001b[0m \u001b[1;33m=\u001b[0m \u001b[0mread_cif_structure\u001b[0m\u001b[1;33m(\u001b[0m\u001b[0mciftext\u001b[0m\u001b[1;33m)\u001b[0m\u001b[1;33m\u001b[0m\u001b[1;33m\u001b[0m\u001b[0m\n\u001b[0m\u001b[0;32m    124\u001b[0m \u001b[1;33m\u001b[0m\u001b[0m\n\u001b[0;32m    125\u001b[0m     \u001b[0msgroup\u001b[0m \u001b[1;33m=\u001b[0m \u001b[0mSpacegroupAnalyzer\u001b[0m\u001b[1;33m(\u001b[0m\u001b[0mcstruct\u001b[0m\u001b[1;33m)\u001b[0m\u001b[1;33m.\u001b[0m\u001b[0mget_symmetry_dataset\u001b[0m\u001b[1;33m(\u001b[0m\u001b[1;33m)\u001b[0m\u001b[1;33m\u001b[0m\u001b[1;33m\u001b[0m\u001b[0m\n",
      "\u001b[1;32mD:\\Python\\Anaconda3\\envs\\xraylarch\\lib\\site-packages\\larch\\xrd\\cif2feff.py\u001b[0m in \u001b[0;36mread_cif_structure\u001b[1;34m(ciftext)\u001b[0m\n\u001b[0;32m     66\u001b[0m         \u001b[0mcstruct\u001b[0m \u001b[1;33m=\u001b[0m \u001b[0mcifstructs\u001b[0m\u001b[1;33m.\u001b[0m\u001b[0mget_structures\u001b[0m\u001b[1;33m(\u001b[0m\u001b[1;33m)\u001b[0m\u001b[1;33m[\u001b[0m\u001b[1;36m0\u001b[0m\u001b[1;33m]\u001b[0m\u001b[1;33m\u001b[0m\u001b[1;33m\u001b[0m\u001b[0m\n\u001b[0;32m     67\u001b[0m     \u001b[1;32mexcept\u001b[0m\u001b[1;33m:\u001b[0m\u001b[1;33m\u001b[0m\u001b[1;33m\u001b[0m\u001b[0m\n\u001b[1;32m---> 68\u001b[1;33m         \u001b[1;32mraise\u001b[0m \u001b[0mValueError\u001b[0m\u001b[1;33m(\u001b[0m\u001b[1;34m'could not get structure from text of CIF file'\u001b[0m\u001b[1;33m)\u001b[0m\u001b[1;33m\u001b[0m\u001b[1;33m\u001b[0m\u001b[0m\n\u001b[0m\u001b[0;32m     69\u001b[0m \u001b[1;33m\u001b[0m\u001b[0m\n\u001b[0;32m     70\u001b[0m     \u001b[1;32mif\u001b[0m \u001b[1;32mnot\u001b[0m \u001b[0mparse_ok\u001b[0m\u001b[1;33m:\u001b[0m\u001b[1;33m\u001b[0m\u001b[1;33m\u001b[0m\u001b[0m\n",
      "\u001b[1;31mValueError\u001b[0m: could not get structure from text of CIF file"
     ]
    }
   ],
   "source": [
    "cif2feff.cif2feffinp(cif_path, absorber=\"Pt\")"
   ]
  },
  {
   "cell_type": "code",
   "execution_count": null,
   "id": "4835edd6",
   "metadata": {},
   "outputs": [],
   "source": []
  }
 ],
 "metadata": {
  "kernelspec": {
   "display_name": "xraylarch",
   "language": "python",
   "name": "xraylarch"
  },
  "language_info": {
   "codemirror_mode": {
    "name": "ipython",
    "version": 3
   },
   "file_extension": ".py",
   "mimetype": "text/x-python",
   "name": "python",
   "nbconvert_exporter": "python",
   "pygments_lexer": "ipython3",
   "version": "3.8.0"
  }
 },
 "nbformat": 4,
 "nbformat_minor": 5
}
